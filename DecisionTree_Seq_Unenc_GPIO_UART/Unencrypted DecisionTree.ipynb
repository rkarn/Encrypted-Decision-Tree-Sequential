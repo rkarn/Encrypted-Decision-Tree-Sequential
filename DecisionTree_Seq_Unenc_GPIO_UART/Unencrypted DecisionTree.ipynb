{
 "cells": [
  {
   "cell_type": "code",
   "execution_count": 14,
   "metadata": {},
   "outputs": [],
   "source": [
    "import serial\n",
    "\n",
    "serialPort = serial.Serial(port = \"COM7\", baudrate=921600,\n",
    "                           bytesize=8, timeout=2, stopbits=serial.STOPBITS_ONE)"
   ]
  },
  {
   "cell_type": "code",
   "execution_count": 15,
   "metadata": {},
   "outputs": [],
   "source": [
    "#Loading MNIST dataset\n",
    "from tensorflow.keras.datasets import mnist\n",
    "(train_X, train_y), (test_X, test_y) = mnist.load_data()\n",
    "X_train=train_X.reshape(-1,784)\n",
    "X_test=test_X.reshape(-1,784)"
   ]
  },
  {
   "cell_type": "code",
   "execution_count": 16,
   "metadata": {},
   "outputs": [
    {
     "name": "stdout",
     "output_type": "stream",
     "text": [
      "Converting the integer pixel value to byte format.\n"
     ]
    }
   ],
   "source": [
    "#Converting the pixel value to bytes.\n",
    "print('Converting the integer pixel value to byte format.')\n",
    "import numpy as np\n",
    "Byte_X_train=[]\n",
    "for i in range(X_train.shape[0]):\n",
    "    byte_X_train=[]\n",
    "    for j in range(X_train.shape[1]):\n",
    "        byte_X_train.append(bytes([X_train[i][j]]))\n",
    "    Byte_X_train.append(byte_X_train)"
   ]
  },
  {
   "cell_type": "markdown",
   "metadata": {},
   "source": [
    "## Testing serial communication"
   ]
  },
  {
   "cell_type": "code",
   "execution_count": 8,
   "metadata": {
    "scrolled": true
   },
   "outputs": [
    {
     "name": "stdout",
     "output_type": "stream",
     "text": [
      "-----------Received data from FPGA.-----------\n"
     ]
    },
    {
     "ename": "KeyboardInterrupt",
     "evalue": "",
     "output_type": "error",
     "traceback": [
      "\u001b[1;31m---------------------------------------------------------------------------\u001b[0m",
      "\u001b[1;31mKeyboardInterrupt\u001b[0m                         Traceback (most recent call last)",
      "Input \u001b[1;32mIn [8]\u001b[0m, in \u001b[0;36m<cell line: 23>\u001b[1;34m()\u001b[0m\n\u001b[0;32m     25\u001b[0m \u001b[38;5;28;01mfor\u001b[39;00m val \u001b[38;5;129;01min\u001b[39;00m Byte_toSend:\n\u001b[0;32m     26\u001b[0m     sent_val \u001b[38;5;241m=\u001b[39m serialPort\u001b[38;5;241m.\u001b[39mwrite(val)\n\u001b[1;32m---> 27\u001b[0m     \u001b[43mtime\u001b[49m\u001b[38;5;241;43m.\u001b[39;49m\u001b[43msleep\u001b[49m\u001b[43m(\u001b[49m\u001b[38;5;241;43m0.1\u001b[39;49m\u001b[43m)\u001b[49m\n\u001b[0;32m     28\u001b[0m     \u001b[38;5;28;01mif\u001b[39;00m(serialPort\u001b[38;5;241m.\u001b[39min_waiting \u001b[38;5;241m>\u001b[39m \u001b[38;5;241m0\u001b[39m):\n\u001b[0;32m     29\u001b[0m         serialString \u001b[38;5;241m=\u001b[39m serialPort\u001b[38;5;241m.\u001b[39mreadlines()\n",
      "\u001b[1;31mKeyboardInterrupt\u001b[0m: "
     ]
    }
   ],
   "source": [
    "import time\n",
    "toSend = []\n",
    "\n",
    "#Simulating the MNIST pixel transmission.\n",
    "# Generating Byte_toSend array that has values from 0 to 255 and length of 784\n",
    "for i in range(784):\n",
    "    if i >= 256 and i < 256*2:\n",
    "        toSend.append(i-256)\n",
    "    elif i >= 256*2 and i < 256*3:\n",
    "        toSend.append(i-2*256)\n",
    "    elif i >= 256*3 :\n",
    "        toSend.append(i-3*256)\n",
    "    else:\n",
    "        toSend.append(i)\n",
    "Byte_toSend = []\n",
    "for val in toSend:\n",
    "    Byte_toSend.append(bytes([val]))\n",
    "    \n",
    "serialPort.reset_input_buffer()\n",
    "serialPort.reset_output_buffer()\n",
    "\n",
    "while(1):\n",
    "    serialString = \"\"                           # Used to hold data coming over UART\n",
    "    print('-----------Received data from FPGA.-----------')\n",
    "    for val in Byte_toSend:\n",
    "        sent_val = serialPort.write(val)\n",
    "        time.sleep(0.1)\n",
    "        if(serialPort.in_waiting > 0):\n",
    "            serialString = serialPort.readlines()\n",
    "            for string in serialString:\n",
    "                received_data=list(string)\n",
    "                print(received_data)\n",
    "        \n",
    "            "
   ]
  },
  {
   "cell_type": "markdown",
   "metadata": {},
   "source": [
    "## Testing for MNIST"
   ]
  },
  {
   "cell_type": "code",
   "execution_count": 18,
   "metadata": {
    "scrolled": false
   },
   "outputs": [
    {
     "name": "stdout",
     "output_type": "stream",
     "text": [
      "********************Expected label is 6 *******************\n",
      "\n"
     ]
    },
    {
     "data": {
      "image/png": "[encoded data removed]",
      "text/plain": [
       "<Figure size 432x288 with 1 Axes>"
      ]
     },
     "metadata": {
      "needs_background": "light"
     },
     "output_type": "display_data"
    },
    {
     "name": "stdout",
     "output_type": "stream",
     "text": [
      "Byte stream created. Sending now: [  0   0   0   0   0   0   0   0   0   0   0   0   0   0   0   0   0   0\n",
      "   0   0   0   0   0   0   0   0   0   0   0   0   0   0   0   0   0   0\n",
      "   0   0   0   0   0   0   0   0   0   0   0   0   0   0   0   0   0   0\n",
      "   0   0   0   0   0   0   0   0   0   0   0   0   0   0 111 192  13   0\n",
      "   0   0   0   0   0   0   0   0   0   0   0   0   0   0   0   0   0   0\n",
      "   0   0   0   0   0   0 198 253 114   0   0   0   0   0   0   0   0   0\n",
      "   0   0   0   0   0   0   0   0   0   0   0   0   0   0   0   0 198 253\n",
      " 114   0   0   0   0   0   0   0   0   0   0   0   0   0   0   0   0   0\n",
      "   0   0   0   0   0   0   0  26 223 253 114   0   0   0   0   0   0   0\n",
      "   0   0   0   0   0   0   0   0   0   0   0   0   0   0   0   0   0  57\n",
      " 254 254  51   0   0   0   0   0   0   0   0   0   0   0   0   0   0   0\n",
      "   0   0   0   0   0   0   0   0   0  82 253 253   0   0   0   0   0   0\n",
      "   0   0   0   0   0   0   0   0   0   0   0   0   0   0   0   0   0   0\n",
      "   0 169 253 165   0   0   0   0   0   0   0   0   0   0   0   0   0   0\n",
      "   0   0   0   0   0   0   0   0   0   0  26 244 253 140   0   0   0   0\n",
      "   0   0   0   0   0   0   0   0   0   0   0   0   0   0   0   0   0   0\n",
      "   0   0  29 254 254 128   0   0   0   0   0   0   0   0   0   0   0   0\n",
      "   0   0   0   0   0   0   0   0   0   0   0   0  54 253 253  28   0   0\n",
      "   0  51  51   0   0   0   0   0   0   0   0   0   0   0   0   0   0   0\n",
      "   0   0   0   0 141 253 149   6  10 111 198 247 248 173  19   0   0   0\n",
      "   0   0   0   0   0   0   0   0   0   0   0   0   0   0 141 253  56  51\n",
      " 230 253 253 253 254 253  56   0   0   0   0   0   0   0   0   0   0   0\n",
      "   0   0   0   0   0   0 142 254 254 254 252 226 138  63 192 254 179   4\n",
      "   0   0   0   0   0   0   0   0   0   0   0   0   0   0   0   0 141 253\n",
      " 253 253 226   0   0   0  66 253 253  28   0   0   0   0   0   0   0   0\n",
      "   0   0   0   0   0   0   0   0 141 253 253 253 188   0   0   0  29 253\n",
      " 253  28   0   0   0   0   0   0   0   0   0   0   0   0   0   0   0   0\n",
      " 141 253 253  52  13   0   0   0  29 253 253  28   0   0   0   0   0   0\n",
      "   0   0   0   0   0   0   0   0   0   0  80 254 254 153   0   0   0   0\n",
      " 154 254 156   0   0   0   0   0   0   0   0   0   0   0   0   0   0   0\n",
      "   0   0  23 235 253 253 158  57  57 108 254 241  44   0   0   0   0   0\n",
      "   0   0   0   0   0   0   0   0   0   0   0   0   0  63 235 253 254 253\n",
      " 253 253 254 159   0   0   0   0   0   0   0   0   0   0   0   0   0   0\n",
      "   0   0   0   0   0   0  22 178 255 253 253 253 128   9   0   0   0   0\n",
      "   0   0   0   0   0   0   0   0   0   0   0   0   0   0   0   0   0   0\n",
      "   0   0   0   0   0   0   0   0   0   0   0   0   0   0   0   0   0   0\n",
      "   0   0   0   0   0   0   0   0   0   0   0   0   0   0   0   0   0   0\n",
      "   0   0   0   0   0   0   0   0   0   0   0   0   0   0   0   0   0   0\n",
      "   0   0   0   0   0   0   0   0   0   0   0   0   0   0   0   0   0   0\n",
      "   0   0   0   0   0   0   0   0   0   0   0   0   0   0   0   0   0   0\n",
      "   0   0   0   0   0   0   0   0   0   0   0   0   0   0   0   0   0   0\n",
      "   0   0   0   0   0   0   0   0   0   0   0   0   0   0   0   0   0   0\n",
      "   0   0   0   0   0   0   0   0   0   0   0   0   0   0   0   0   0   0\n",
      "   0   0   0   0   0   0   0   0   0   0]\n",
      "Sent bytes of length 784.\n",
      "-----------Received data from FPGA.-----------\n",
      "[0, 0, 0, 0, 0, 0, 0, 0, 0, 0, 0, 0, 0, 0, 0, 0, 0, 0, 0, 0, 0, 0, 0, 0, 0, 0, 0, 0, 0, 0, 0, 0, 0, 0, 0, 0, 0, 0, 0, 0, 0, 0, 0, 0, 0, 0, 0, 0, 0, 0, 0, 0, 0, 0, 0, 0, 0, 0, 0, 0, 0, 0, 0, 0, 0, 0, 0, 0, 0, 111, 192, 13, 0, 0, 0, 0, 0, 0, 0, 0, 0, 0, 0, 0, 0, 0, 0, 0, 0, 0, 0, 0, 0, 0, 0, 0, 0, 198, 253, 114, 0, 0, 0, 0, 0, 0, 0, 0, 0, 0, 0, 0, 0, 0, 0, 0, 0, 0, 0, 0, 0, 0, 0, 0, 0, 198, 253, 114, 0, 0, 0, 0, 0, 0, 0, 0, 0, 0, 0, 0, 0, 0, 0, 0, 0, 0, 0, 0, 0, 0, 0, 0, 26, 223, 253, 114, 0, 0, 0, 0, 0, 0, 0, 0, 0, 0, 0, 0, 0, 0, 0, 0, 0, 0, 0, 0, 0, 0, 0, 0, 57, 254, 254, 51, 0, 0, 0, 0, 0, 0, 0, 0, 0, 0, 0, 0, 0, 0, 0, 0, 0, 0, 0, 0, 0, 0, 0, 0, 82, 253, 253, 0, 0, 0, 0, 0, 0, 0, 0, 0, 0, 0, 0, 0, 0, 0, 0, 0, 0, 0, 0, 0, 0, 0, 0, 0, 169, 253, 165, 0, 0, 0, 0, 0, 0, 0, 0, 0, 0, 0, 0, 0, 0, 0, 0, 0, 0, 0, 0, 0, 0, 0, 0, 26, 244, 253, 140, 0, 0, 0, 0, 0, 0, 0, 0, 0, 0, 0, 0, 0, 0, 0, 0, 0, 0, 0, 0, 0, 0, 0, 0, 29, 254, 254, 128, 0, 0, 0, 0, 0, 0, 0, 0, 0, 0, 0, 0, 0, 0, 0, 0, 0, 0, 0, 0, 0, 0, 0, 0, 54, 253, 253, 28, 0, 0, 0, 51, 51, 0, 0, 0, 0, 0, 0, 0, 0, 0, 0, 0, 0, 0, 0, 0, 0, 0, 0, 0, 141, 253, 149, 6, 10]\n",
      "[111, 198, 247, 248, 173, 19, 0, 0, 0, 0, 0, 0, 0, 0, 0, 0, 0, 0, 0, 0, 0, 0, 0, 141, 253, 56, 51, 230, 253, 253, 253, 254, 253, 56, 0, 0, 0, 0, 0, 0, 0, 0, 0, 0, 0, 0, 0, 0, 0, 0, 0, 142, 254, 254, 254, 252, 226, 138, 63, 192, 254, 179, 4, 0, 0, 0, 0, 0, 0, 0, 0, 0, 0, 0, 0, 0, 0, 0, 0, 141, 253, 253, 253, 226, 0, 0, 0, 66, 253, 253, 28, 0, 0, 0, 0, 0, 0, 0, 0, 0, 0, 0, 0, 0, 0, 0, 0, 141, 253, 253, 253, 188, 0, 0, 0, 29, 253, 253, 28, 0, 0, 0, 0, 0, 0, 0, 0, 0, 0, 0, 0, 0, 0, 0, 0, 141, 253, 253, 52, 13, 0, 0, 0, 29, 253, 253, 28, 0, 0, 0, 0, 0, 0, 0, 0, 0, 0, 0, 0, 0, 0, 0, 0, 80, 254, 254, 153, 0, 0, 0, 0, 154, 254, 156, 0, 0, 0, 0, 0, 0, 0, 0, 0, 0, 0, 0, 0, 0, 0, 0, 0, 23, 235, 253, 253, 158, 57, 57, 108, 254, 241, 44, 0, 0, 0, 0, 0, 0, 0, 0, 0, 0, 0, 0, 0, 0, 0, 0, 0, 0, 63, 235, 253, 254, 253, 253, 253, 254, 159, 0, 0, 0, 0, 0, 0, 0, 0, 0, 0, 0, 0, 0, 0, 0, 0, 0, 0, 0, 0, 22, 178, 255, 253, 253, 253, 128, 9, 0, 0, 0, 0, 0, 0, 0, 0, 0, 0, 0, 0, 0, 0, 0, 0, 0, 0, 0, 0, 0, 0, 0, 0, 0, 0, 0, 0, 0, 0, 0, 0, 0, 0, 0, 0, 0, 0, 0, 0, 0, 0, 0, 0, 0, 0, 0, 0, 0, 0, 0, 0, 0, 0, 0, 0, 0, 0, 0, 0, 0, 0, 0, 0, 0, 0, 0, 0, 0, 0, 0, 0, 0, 0, 0, 0, 0, 0, 0, 0, 0, 0, 0, 0, 0, 0, 0, 0, 0, 0, 0, 0, 0, 0, 0, 0, 0, 0, 0, 0, 0, 0, 0, 0, 0, 0, 0, 0, 0, 0, 0, 0, 0, 0, 0, 0, 0, 0, 0, 0, 0, 0, 0, 0, 0, 0, 0, 0, 0, 0, 0, 0, 0, 0, 0, 0, 0, 0, 0, 0, 0, 0, 0, 0, 0, 0, 0, 0, 0, 0, 0, 0, 0, 0, 0, 0, 0, 0, 0, 0, 0, 0, 0, 0, 0, 0, 0, 0, 0, 0, 0, 0, 0, 0, 0, 6]\n",
      "Length of received data 785\n",
      "Last byte received is label.\n",
      "Do you want to continue: press Y for yes and N for no.\n",
      "N\n",
      "Thank you for using decision tree inference in FPGA.\n"
     ]
    }
   ],
   "source": [
    "import time\n",
    "from IPython.display import clear_output\n",
    "import matplotlib.pyplot as plt\n",
    "%matplotlib inline\n",
    "fig = plt.figure\n",
    "while(1):\n",
    "    serialPort.reset_input_buffer()\n",
    "    serialPort.reset_output_buffer()\n",
    "    sending_sample = np.random.randint(0,X_train.shape[0])\n",
    "    print('********************Expected label is {} *******************\\n'.format(train_y[sending_sample]))\n",
    "    plt.imshow(train_X[sending_sample], cmap='gray')\n",
    "    plt.show()\n",
    "\n",
    "    print('Byte stream created. Sending now: {}'.format(X_train[sending_sample]))\n",
    "    print('Sent bytes of length {}.'.format(len(X_train[sending_sample])))\n",
    "    serialString = \"\"                           # Used to hold data coming over UART\n",
    "    for val in Byte_X_train[sending_sample]:\n",
    "        sent_val = serialPort.write(val)\n",
    "    #print('Number of bytes sent is: {}. '.format(sent_val))\n",
    "    count_received_data = 0\n",
    "    while(1):\n",
    "        # Wait until there is data waiting in the serial buffer\n",
    "        if(serialPort.in_waiting > 0):\n",
    "            # Read data out of the buffer until a carraige return / new line is found\n",
    "            #serialString = serialPort.readline()\n",
    "            #received_data=list(serialString)\n",
    "            #print('-----------Received data from FPGA.-----------')\n",
    "            #print(received_data)\n",
    "            #print('Length of received data {}'.format(len(received_data)))\n",
    "            #print('Last byte received is label.')\n",
    "            #break\n",
    "            serialString = serialPort.readlines()\n",
    "            print('-----------Received data from FPGA.-----------')\n",
    "            for string in serialString:\n",
    "                received_data=list(string)\n",
    "                print(received_data)\n",
    "                count_received_data = count_received_data + len(received_data) \n",
    "            print('Length of received data {}'.format(count_received_data))\n",
    "            print('Last byte received is label.')\n",
    "            break\n",
    "            #Sanity check that sent and received pixels values are same.\n",
    "            #for i,j in zip(X_train[sending_sample], received_data):\n",
    "            #    if i!=j:\n",
    "            #        print(i,j)\n",
    "    print('Do you want to continue: press Y for yes and N for no.')\n",
    "    continue_command = input()\n",
    "    if continue_command == 'Y' or continue_command =='y':\n",
    "        clear_output(wait=True)\n",
    "    else:\n",
    "        print('Thank you for using decision tree inference in FPGA.')\n",
    "        break"
   ]
  },
  {
   "cell_type": "markdown",
   "metadata": {},
   "source": [
    "# END\n",
    "\n",
    "\n",
    "\n",
    "\n",
    "\n",
    "\n",
    "\n",
    "\n",
    "\n",
    "\n",
    "\n",
    "\n",
    "\n",
    "\n",
    "\n",
    "\n",
    "\n",
    "<br> \n",
    "\n",
    "\n",
    "\n",
    "\n",
    "\n",
    "\n",
    "\n",
    "\n",
    "\n",
    "\n",
    "\n",
    "\n",
    "<br> "
   ]
  }
 ],
 "metadata": {
  "kernelspec": {
   "display_name": "Python 3 (ipykernel)",
   "language": "python",
   "name": "python3"
  },
  "language_info": {
   "codemirror_mode": {
    "name": "ipython",
    "version": 3
   },
   "file_extension": ".py",
   "mimetype": "text/x-python",
   "name": "python",
   "nbconvert_exporter": "python",
   "pygments_lexer": "ipython3",
   "version": "3.9.12"
  }
 },
 "nbformat": 4,
 "nbformat_minor": 2
}
